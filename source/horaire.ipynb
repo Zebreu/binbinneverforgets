{
 "cells": [
  {
   "cell_type": "code",
   "execution_count": 1,
   "metadata": {},
   "outputs": [],
   "source": [
    "import pandas as pd"
   ]
  },
  {
   "cell_type": "code",
   "execution_count": 2,
   "metadata": {},
   "outputs": [],
   "source": [
    "import sqlite3"
   ]
  },
  {
   "cell_type": "code",
   "execution_count": 3,
   "metadata": {},
   "outputs": [],
   "source": [
    "import random"
   ]
  },
  {
   "cell_type": "code",
   "execution_count": 4,
   "metadata": {},
   "outputs": [],
   "source": [
    "import faker"
   ]
  },
  {
   "cell_type": "code",
   "execution_count": 5,
   "metadata": {},
   "outputs": [],
   "source": [
    "f = faker.Faker()"
   ]
  },
  {
   "cell_type": "code",
   "execution_count": 42,
   "metadata": {},
   "outputs": [],
   "source": [
    "dates = [f.date() for _ in range(25)]"
   ]
  },
  {
   "cell_type": "code",
   "execution_count": 53,
   "metadata": {},
   "outputs": [],
   "source": [
    "horaires = [random.randint(1,16) for _ in range(25)]"
   ]
  },
  {
   "cell_type": "code",
   "execution_count": 54,
   "metadata": {},
   "outputs": [
    {
     "data": {
      "text/plain": [
       "[1,\n",
       " 1,\n",
       " 1,\n",
       " 2,\n",
       " 2,\n",
       " 3,\n",
       " 4,\n",
       " 4,\n",
       " 4,\n",
       " 5,\n",
       " 6,\n",
       " 7,\n",
       " 8,\n",
       " 8,\n",
       " 9,\n",
       " 9,\n",
       " 10,\n",
       " 11,\n",
       " 11,\n",
       " 11,\n",
       " 11,\n",
       " 11,\n",
       " 13,\n",
       " 15,\n",
       " 15]"
      ]
     },
     "execution_count": 54,
     "metadata": {},
     "output_type": "execute_result"
    }
   ],
   "source": [
    "sorted(horaires)"
   ]
  },
  {
   "cell_type": "code",
   "execution_count": 43,
   "metadata": {},
   "outputs": [
    {
     "data": {
      "text/plain": [
       "['1981-08-04',\n",
       " '2003-03-30',\n",
       " '1997-06-19',\n",
       " '2007-03-26',\n",
       " '1970-03-16',\n",
       " '1983-11-11',\n",
       " '1996-10-24',\n",
       " '2013-10-01',\n",
       " '2017-11-20',\n",
       " '1977-05-28',\n",
       " '2017-06-18',\n",
       " '2020-05-22',\n",
       " '1981-03-23',\n",
       " '2006-04-26',\n",
       " '1994-07-15',\n",
       " '2003-10-09',\n",
       " '2001-05-26',\n",
       " '2008-04-07',\n",
       " '1979-07-10',\n",
       " '1982-06-10',\n",
       " '1999-06-15',\n",
       " '2008-12-01',\n",
       " '1984-09-13',\n",
       " '2012-07-03',\n",
       " '1987-07-13']"
      ]
     },
     "execution_count": 43,
     "metadata": {},
     "output_type": "execute_result"
    }
   ],
   "source": [
    "dates"
   ]
  },
  {
   "cell_type": "code",
   "execution_count": 23,
   "metadata": {},
   "outputs": [],
   "source": [
    "cities = list(set([f.job().split(' ')[0].split(',')[0].split(\"'\")[0] for _ in range(25)]))"
   ]
  },
  {
   "cell_type": "code",
   "execution_count": 56,
   "metadata": {},
   "outputs": [],
   "source": [
    "df = pd.DataFrame()\n",
    "df['item'] = cities\n",
    "df['date'] = dates[:len(cities)]\n",
    "df['frequency'] = horaires[:len(cities)]\n",
    "df['unit'] = 'W'"
   ]
  },
  {
   "cell_type": "code",
   "execution_count": 57,
   "metadata": {},
   "outputs": [
    {
     "data": {
      "text/html": [
       "<div>\n",
       "<style scoped>\n",
       "    .dataframe tbody tr th:only-of-type {\n",
       "        vertical-align: middle;\n",
       "    }\n",
       "\n",
       "    .dataframe tbody tr th {\n",
       "        vertical-align: top;\n",
       "    }\n",
       "\n",
       "    .dataframe thead th {\n",
       "        text-align: right;\n",
       "    }\n",
       "</style>\n",
       "<table border=\"1\" class=\"dataframe\">\n",
       "  <thead>\n",
       "    <tr style=\"text-align: right;\">\n",
       "      <th></th>\n",
       "      <th>item</th>\n",
       "      <th>date</th>\n",
       "      <th>frequency</th>\n",
       "      <th>unit</th>\n",
       "    </tr>\n",
       "  </thead>\n",
       "  <tbody>\n",
       "    <tr>\n",
       "      <th>0</th>\n",
       "      <td>Telecommunications</td>\n",
       "      <td>1981-08-04</td>\n",
       "      <td>3</td>\n",
       "      <td>W</td>\n",
       "    </tr>\n",
       "    <tr>\n",
       "      <th>1</th>\n",
       "      <td>Primary</td>\n",
       "      <td>2003-03-30</td>\n",
       "      <td>4</td>\n",
       "      <td>W</td>\n",
       "    </tr>\n",
       "    <tr>\n",
       "      <th>2</th>\n",
       "      <td>Chief</td>\n",
       "      <td>1997-06-19</td>\n",
       "      <td>4</td>\n",
       "      <td>W</td>\n",
       "    </tr>\n",
       "    <tr>\n",
       "      <th>3</th>\n",
       "      <td>Magazine</td>\n",
       "      <td>2007-03-26</td>\n",
       "      <td>1</td>\n",
       "      <td>W</td>\n",
       "    </tr>\n",
       "    <tr>\n",
       "      <th>4</th>\n",
       "      <td>Administrator</td>\n",
       "      <td>1970-03-16</td>\n",
       "      <td>15</td>\n",
       "      <td>W</td>\n",
       "    </tr>\n",
       "    <tr>\n",
       "      <th>5</th>\n",
       "      <td>Broadcast</td>\n",
       "      <td>1983-11-11</td>\n",
       "      <td>1</td>\n",
       "      <td>W</td>\n",
       "    </tr>\n",
       "    <tr>\n",
       "      <th>6</th>\n",
       "      <td>Microbiologist</td>\n",
       "      <td>1996-10-24</td>\n",
       "      <td>9</td>\n",
       "      <td>W</td>\n",
       "    </tr>\n",
       "    <tr>\n",
       "      <th>7</th>\n",
       "      <td>Multimedia</td>\n",
       "      <td>2013-10-01</td>\n",
       "      <td>11</td>\n",
       "      <td>W</td>\n",
       "    </tr>\n",
       "    <tr>\n",
       "      <th>8</th>\n",
       "      <td>Nurse</td>\n",
       "      <td>2017-11-20</td>\n",
       "      <td>11</td>\n",
       "      <td>W</td>\n",
       "    </tr>\n",
       "    <tr>\n",
       "      <th>9</th>\n",
       "      <td>Patent</td>\n",
       "      <td>1977-05-28</td>\n",
       "      <td>15</td>\n",
       "      <td>W</td>\n",
       "    </tr>\n",
       "    <tr>\n",
       "      <th>10</th>\n",
       "      <td>Sub</td>\n",
       "      <td>2017-06-18</td>\n",
       "      <td>2</td>\n",
       "      <td>W</td>\n",
       "    </tr>\n",
       "    <tr>\n",
       "      <th>11</th>\n",
       "      <td>Dancer</td>\n",
       "      <td>2020-05-22</td>\n",
       "      <td>13</td>\n",
       "      <td>W</td>\n",
       "    </tr>\n",
       "    <tr>\n",
       "      <th>12</th>\n",
       "      <td>Minerals</td>\n",
       "      <td>1981-03-23</td>\n",
       "      <td>2</td>\n",
       "      <td>W</td>\n",
       "    </tr>\n",
       "    <tr>\n",
       "      <th>13</th>\n",
       "      <td>Personnel</td>\n",
       "      <td>2006-04-26</td>\n",
       "      <td>8</td>\n",
       "      <td>W</td>\n",
       "    </tr>\n",
       "    <tr>\n",
       "      <th>14</th>\n",
       "      <td>Arts</td>\n",
       "      <td>1994-07-15</td>\n",
       "      <td>4</td>\n",
       "      <td>W</td>\n",
       "    </tr>\n",
       "    <tr>\n",
       "      <th>15</th>\n",
       "      <td>Fisheries</td>\n",
       "      <td>2003-10-09</td>\n",
       "      <td>11</td>\n",
       "      <td>W</td>\n",
       "    </tr>\n",
       "    <tr>\n",
       "      <th>16</th>\n",
       "      <td>Scientist</td>\n",
       "      <td>2001-05-26</td>\n",
       "      <td>9</td>\n",
       "      <td>W</td>\n",
       "    </tr>\n",
       "    <tr>\n",
       "      <th>17</th>\n",
       "      <td>Quarry</td>\n",
       "      <td>2008-04-07</td>\n",
       "      <td>1</td>\n",
       "      <td>W</td>\n",
       "    </tr>\n",
       "    <tr>\n",
       "      <th>18</th>\n",
       "      <td>Curator</td>\n",
       "      <td>1979-07-10</td>\n",
       "      <td>10</td>\n",
       "      <td>W</td>\n",
       "    </tr>\n",
       "    <tr>\n",
       "      <th>19</th>\n",
       "      <td>Clinical</td>\n",
       "      <td>1982-06-10</td>\n",
       "      <td>6</td>\n",
       "      <td>W</td>\n",
       "    </tr>\n",
       "    <tr>\n",
       "      <th>20</th>\n",
       "      <td>Production</td>\n",
       "      <td>1999-06-15</td>\n",
       "      <td>7</td>\n",
       "      <td>W</td>\n",
       "    </tr>\n",
       "    <tr>\n",
       "      <th>21</th>\n",
       "      <td>Make</td>\n",
       "      <td>2008-12-01</td>\n",
       "      <td>8</td>\n",
       "      <td>W</td>\n",
       "    </tr>\n",
       "    <tr>\n",
       "      <th>22</th>\n",
       "      <td>Geophysical</td>\n",
       "      <td>1984-09-13</td>\n",
       "      <td>11</td>\n",
       "      <td>W</td>\n",
       "    </tr>\n",
       "    <tr>\n",
       "      <th>23</th>\n",
       "      <td>Optician</td>\n",
       "      <td>2012-07-03</td>\n",
       "      <td>11</td>\n",
       "      <td>W</td>\n",
       "    </tr>\n",
       "  </tbody>\n",
       "</table>\n",
       "</div>"
      ],
      "text/plain": [
       "                  item        date  frequency unit\n",
       "0   Telecommunications  1981-08-04          3    W\n",
       "1              Primary  2003-03-30          4    W\n",
       "2                Chief  1997-06-19          4    W\n",
       "3             Magazine  2007-03-26          1    W\n",
       "4        Administrator  1970-03-16         15    W\n",
       "5            Broadcast  1983-11-11          1    W\n",
       "6       Microbiologist  1996-10-24          9    W\n",
       "7           Multimedia  2013-10-01         11    W\n",
       "8                Nurse  2017-11-20         11    W\n",
       "9               Patent  1977-05-28         15    W\n",
       "10                 Sub  2017-06-18          2    W\n",
       "11              Dancer  2020-05-22         13    W\n",
       "12            Minerals  1981-03-23          2    W\n",
       "13           Personnel  2006-04-26          8    W\n",
       "14                Arts  1994-07-15          4    W\n",
       "15           Fisheries  2003-10-09         11    W\n",
       "16           Scientist  2001-05-26          9    W\n",
       "17              Quarry  2008-04-07          1    W\n",
       "18             Curator  1979-07-10         10    W\n",
       "19            Clinical  1982-06-10          6    W\n",
       "20          Production  1999-06-15          7    W\n",
       "21                Make  2008-12-01          8    W\n",
       "22         Geophysical  1984-09-13         11    W\n",
       "23            Optician  2012-07-03         11    W"
      ]
     },
     "execution_count": 57,
     "metadata": {},
     "output_type": "execute_result"
    }
   ],
   "source": [
    "df"
   ]
  },
  {
   "cell_type": "code",
   "execution_count": 64,
   "metadata": {},
   "outputs": [],
   "source": [
    "df.to_csv('horaire_data.csv', index=False)"
   ]
  },
  {
   "cell_type": "code",
   "execution_count": 62,
   "metadata": {},
   "outputs": [
    {
     "data": {
      "text/plain": [
       "0    6\n",
       "3    5\n",
       "1    5\n",
       "4    3\n",
       "6    2\n",
       "5    2\n",
       "2    1\n",
       "Name: date, dtype: int64"
      ]
     },
     "execution_count": 62,
     "metadata": {},
     "output_type": "execute_result"
    }
   ],
   "source": [
    "pd.to_datetime(df['date']).dt.weekday.value_counts()"
   ]
  },
  {
   "cell_type": "code",
   "execution_count": 24,
   "metadata": {},
   "outputs": [
    {
     "data": {
      "text/plain": [
       "['Telecommunications',\n",
       " 'Primary',\n",
       " 'Chief',\n",
       " 'Magazine',\n",
       " 'Administrator',\n",
       " 'Broadcast',\n",
       " 'Microbiologist',\n",
       " 'Multimedia',\n",
       " 'Nurse',\n",
       " 'Patent',\n",
       " 'Sub',\n",
       " 'Dancer',\n",
       " 'Minerals',\n",
       " 'Personnel',\n",
       " 'Arts',\n",
       " 'Fisheries',\n",
       " 'Scientist',\n",
       " 'Quarry',\n",
       " 'Curator',\n",
       " 'Clinical',\n",
       " 'Production',\n",
       " 'Make',\n",
       " 'Geophysical',\n",
       " 'Optician']"
      ]
     },
     "execution_count": 24,
     "metadata": {},
     "output_type": "execute_result"
    }
   ],
   "source": [
    "cities"
   ]
  },
  {
   "cell_type": "code",
   "execution_count": null,
   "metadata": {},
   "outputs": [],
   "source": []
  },
  {
   "cell_type": "code",
   "execution_count": 7,
   "metadata": {},
   "outputs": [],
   "source": [
    "df = pd.read_csv('horaire.csv')"
   ]
  },
  {
   "cell_type": "code",
   "execution_count": 8,
   "metadata": {},
   "outputs": [],
   "source": [
    "df = pd.read_csv('horaire_data.csv')"
   ]
  },
  {
   "cell_type": "code",
   "execution_count": 9,
   "metadata": {},
   "outputs": [
    {
     "data": {
      "text/html": [
       "<div>\n",
       "<style scoped>\n",
       "    .dataframe tbody tr th:only-of-type {\n",
       "        vertical-align: middle;\n",
       "    }\n",
       "\n",
       "    .dataframe tbody tr th {\n",
       "        vertical-align: top;\n",
       "    }\n",
       "\n",
       "    .dataframe thead th {\n",
       "        text-align: right;\n",
       "    }\n",
       "</style>\n",
       "<table border=\"1\" class=\"dataframe\">\n",
       "  <thead>\n",
       "    <tr style=\"text-align: right;\">\n",
       "      <th></th>\n",
       "      <th>produit</th>\n",
       "      <th>date</th>\n",
       "      <th>horaire</th>\n",
       "    </tr>\n",
       "  </thead>\n",
       "  <tbody>\n",
       "    <tr>\n",
       "      <th>0</th>\n",
       "      <td>Lake Lisa</td>\n",
       "      <td>2020-11-12</td>\n",
       "      <td>16</td>\n",
       "    </tr>\n",
       "    <tr>\n",
       "      <th>1</th>\n",
       "      <td>Christymouth</td>\n",
       "      <td>2020-10-09</td>\n",
       "      <td>3</td>\n",
       "    </tr>\n",
       "    <tr>\n",
       "      <th>2</th>\n",
       "      <td>Baileychester</td>\n",
       "      <td>2020-10-29</td>\n",
       "      <td>2</td>\n",
       "    </tr>\n",
       "    <tr>\n",
       "      <th>3</th>\n",
       "      <td>Ballchester</td>\n",
       "      <td>2020-10-29</td>\n",
       "      <td>4</td>\n",
       "    </tr>\n",
       "    <tr>\n",
       "      <th>4</th>\n",
       "      <td>Markchester</td>\n",
       "      <td>2020-01-30</td>\n",
       "      <td>1</td>\n",
       "    </tr>\n",
       "  </tbody>\n",
       "</table>\n",
       "</div>"
      ],
      "text/plain": [
       "         produit        date  horaire\n",
       "0      Lake Lisa  2020-11-12       16\n",
       "1   Christymouth  2020-10-09        3\n",
       "2  Baileychester  2020-10-29        2\n",
       "3    Ballchester  2020-10-29        4\n",
       "4    Markchester  2020-01-30        1"
      ]
     },
     "execution_count": 9,
     "metadata": {},
     "output_type": "execute_result"
    }
   ],
   "source": [
    "df"
   ]
  },
  {
   "cell_type": "code",
   "execution_count": 10,
   "metadata": {},
   "outputs": [],
   "source": [
    "df['date'] = pd.to_datetime(df['date'])"
   ]
  },
  {
   "cell_type": "code",
   "execution_count": 11,
   "metadata": {},
   "outputs": [],
   "source": [
    "df['produit'] = cities"
   ]
  },
  {
   "cell_type": "code",
   "execution_count": 12,
   "metadata": {},
   "outputs": [
    {
     "data": {
      "text/html": [
       "<div>\n",
       "<style scoped>\n",
       "    .dataframe tbody tr th:only-of-type {\n",
       "        vertical-align: middle;\n",
       "    }\n",
       "\n",
       "    .dataframe tbody tr th {\n",
       "        vertical-align: top;\n",
       "    }\n",
       "\n",
       "    .dataframe thead th {\n",
       "        text-align: right;\n",
       "    }\n",
       "</style>\n",
       "<table border=\"1\" class=\"dataframe\">\n",
       "  <thead>\n",
       "    <tr style=\"text-align: right;\">\n",
       "      <th></th>\n",
       "      <th>produit</th>\n",
       "      <th>date</th>\n",
       "      <th>horaire</th>\n",
       "    </tr>\n",
       "  </thead>\n",
       "  <tbody>\n",
       "    <tr>\n",
       "      <th>0</th>\n",
       "      <td>New Hollyside</td>\n",
       "      <td>2020-11-12</td>\n",
       "      <td>16</td>\n",
       "    </tr>\n",
       "    <tr>\n",
       "      <th>1</th>\n",
       "      <td>Port Rebecca</td>\n",
       "      <td>2020-10-09</td>\n",
       "      <td>3</td>\n",
       "    </tr>\n",
       "    <tr>\n",
       "      <th>2</th>\n",
       "      <td>South Anthonymouth</td>\n",
       "      <td>2020-10-29</td>\n",
       "      <td>2</td>\n",
       "    </tr>\n",
       "    <tr>\n",
       "      <th>3</th>\n",
       "      <td>New Granttown</td>\n",
       "      <td>2020-10-29</td>\n",
       "      <td>4</td>\n",
       "    </tr>\n",
       "    <tr>\n",
       "      <th>4</th>\n",
       "      <td>Frenchport</td>\n",
       "      <td>2020-01-30</td>\n",
       "      <td>1</td>\n",
       "    </tr>\n",
       "  </tbody>\n",
       "</table>\n",
       "</div>"
      ],
      "text/plain": [
       "              produit       date  horaire\n",
       "0       New Hollyside 2020-11-12       16\n",
       "1        Port Rebecca 2020-10-09        3\n",
       "2  South Anthonymouth 2020-10-29        2\n",
       "3       New Granttown 2020-10-29        4\n",
       "4          Frenchport 2020-01-30        1"
      ]
     },
     "execution_count": 12,
     "metadata": {},
     "output_type": "execute_result"
    }
   ],
   "source": [
    "df"
   ]
  },
  {
   "cell_type": "code",
   "execution_count": 13,
   "metadata": {},
   "outputs": [],
   "source": [
    "df.to_csv('horaire_data.csv',index=False)"
   ]
  },
  {
   "cell_type": "code",
   "execution_count": 14,
   "metadata": {},
   "outputs": [],
   "source": [
    "connection = sqlite3.connect('horaire.db')"
   ]
  },
  {
   "cell_type": "code",
   "execution_count": 15,
   "metadata": {},
   "outputs": [],
   "source": [
    "df[['date', 'produit']].to_sql('inventory_check', con=connection, if_exists='replace', index=False)"
   ]
  },
  {
   "cell_type": "code",
   "execution_count": 16,
   "metadata": {},
   "outputs": [
    {
     "data": {
      "text/plain": [
       "0   17 days\n",
       "1    7 days\n",
       "2    9 days\n",
       "3    7 days\n",
       "4   16 days\n",
       "dtype: timedelta64[ns]"
      ]
     },
     "execution_count": 16,
     "metadata": {},
     "output_type": "execute_result"
    }
   ],
   "source": [
    "pd.Series([pd.Timedelta(random.randint(7,20), 'D') for i in range(5)])"
   ]
  },
  {
   "cell_type": "code",
   "execution_count": 17,
   "metadata": {},
   "outputs": [],
   "source": [
    "new_df = pd.DataFrame()\n",
    "new_df['produit'] = df['produit']\n",
    "new_df['date'] = df['date']+pd.Series([pd.Timedelta(random.randint(7,20), 'D') for i in range(5)])"
   ]
  },
  {
   "cell_type": "code",
   "execution_count": 18,
   "metadata": {},
   "outputs": [
    {
     "data": {
      "text/html": [
       "<div>\n",
       "<style scoped>\n",
       "    .dataframe tbody tr th:only-of-type {\n",
       "        vertical-align: middle;\n",
       "    }\n",
       "\n",
       "    .dataframe tbody tr th {\n",
       "        vertical-align: top;\n",
       "    }\n",
       "\n",
       "    .dataframe thead th {\n",
       "        text-align: right;\n",
       "    }\n",
       "</style>\n",
       "<table border=\"1\" class=\"dataframe\">\n",
       "  <thead>\n",
       "    <tr style=\"text-align: right;\">\n",
       "      <th></th>\n",
       "      <th>produit</th>\n",
       "      <th>date</th>\n",
       "    </tr>\n",
       "  </thead>\n",
       "  <tbody>\n",
       "    <tr>\n",
       "      <th>0</th>\n",
       "      <td>New Hollyside</td>\n",
       "      <td>2020-11-26</td>\n",
       "    </tr>\n",
       "    <tr>\n",
       "      <th>1</th>\n",
       "      <td>Port Rebecca</td>\n",
       "      <td>2020-10-25</td>\n",
       "    </tr>\n",
       "    <tr>\n",
       "      <th>2</th>\n",
       "      <td>South Anthonymouth</td>\n",
       "      <td>2020-11-06</td>\n",
       "    </tr>\n",
       "    <tr>\n",
       "      <th>3</th>\n",
       "      <td>New Granttown</td>\n",
       "      <td>2020-11-17</td>\n",
       "    </tr>\n",
       "    <tr>\n",
       "      <th>4</th>\n",
       "      <td>Frenchport</td>\n",
       "      <td>2020-02-11</td>\n",
       "    </tr>\n",
       "  </tbody>\n",
       "</table>\n",
       "</div>"
      ],
      "text/plain": [
       "              produit       date\n",
       "0       New Hollyside 2020-11-26\n",
       "1        Port Rebecca 2020-10-25\n",
       "2  South Anthonymouth 2020-11-06\n",
       "3       New Granttown 2020-11-17\n",
       "4          Frenchport 2020-02-11"
      ]
     },
     "execution_count": 18,
     "metadata": {},
     "output_type": "execute_result"
    }
   ],
   "source": [
    "new_df"
   ]
  },
  {
   "cell_type": "code",
   "execution_count": 19,
   "metadata": {},
   "outputs": [],
   "source": [
    "new_df.to_sql('inventory_check', con=connection, if_exists='append', index=False)"
   ]
  },
  {
   "cell_type": "code",
   "execution_count": 20,
   "metadata": {},
   "outputs": [],
   "source": [
    "checks = pd.read_sql('SELECT * from inventory_check', con = connection)"
   ]
  },
  {
   "cell_type": "code",
   "execution_count": 21,
   "metadata": {},
   "outputs": [],
   "source": [
    "checks['date'] = pd.to_datetime(checks['date'])"
   ]
  },
  {
   "cell_type": "code",
   "execution_count": 22,
   "metadata": {},
   "outputs": [
    {
     "data": {
      "text/html": [
       "<div>\n",
       "<style scoped>\n",
       "    .dataframe tbody tr th:only-of-type {\n",
       "        vertical-align: middle;\n",
       "    }\n",
       "\n",
       "    .dataframe tbody tr th {\n",
       "        vertical-align: top;\n",
       "    }\n",
       "\n",
       "    .dataframe thead th {\n",
       "        text-align: right;\n",
       "    }\n",
       "</style>\n",
       "<table border=\"1\" class=\"dataframe\">\n",
       "  <thead>\n",
       "    <tr style=\"text-align: right;\">\n",
       "      <th></th>\n",
       "      <th>date</th>\n",
       "      <th>produit</th>\n",
       "    </tr>\n",
       "  </thead>\n",
       "  <tbody>\n",
       "    <tr>\n",
       "      <th>0</th>\n",
       "      <td>2020-11-12</td>\n",
       "      <td>New Hollyside</td>\n",
       "    </tr>\n",
       "    <tr>\n",
       "      <th>1</th>\n",
       "      <td>2020-10-09</td>\n",
       "      <td>Port Rebecca</td>\n",
       "    </tr>\n",
       "    <tr>\n",
       "      <th>2</th>\n",
       "      <td>2020-10-29</td>\n",
       "      <td>South Anthonymouth</td>\n",
       "    </tr>\n",
       "    <tr>\n",
       "      <th>3</th>\n",
       "      <td>2020-10-29</td>\n",
       "      <td>New Granttown</td>\n",
       "    </tr>\n",
       "    <tr>\n",
       "      <th>4</th>\n",
       "      <td>2020-01-30</td>\n",
       "      <td>Frenchport</td>\n",
       "    </tr>\n",
       "    <tr>\n",
       "      <th>5</th>\n",
       "      <td>2020-11-26</td>\n",
       "      <td>New Hollyside</td>\n",
       "    </tr>\n",
       "    <tr>\n",
       "      <th>6</th>\n",
       "      <td>2020-10-25</td>\n",
       "      <td>Port Rebecca</td>\n",
       "    </tr>\n",
       "    <tr>\n",
       "      <th>7</th>\n",
       "      <td>2020-11-06</td>\n",
       "      <td>South Anthonymouth</td>\n",
       "    </tr>\n",
       "    <tr>\n",
       "      <th>8</th>\n",
       "      <td>2020-11-17</td>\n",
       "      <td>New Granttown</td>\n",
       "    </tr>\n",
       "    <tr>\n",
       "      <th>9</th>\n",
       "      <td>2020-02-11</td>\n",
       "      <td>Frenchport</td>\n",
       "    </tr>\n",
       "  </tbody>\n",
       "</table>\n",
       "</div>"
      ],
      "text/plain": [
       "        date             produit\n",
       "0 2020-11-12       New Hollyside\n",
       "1 2020-10-09        Port Rebecca\n",
       "2 2020-10-29  South Anthonymouth\n",
       "3 2020-10-29       New Granttown\n",
       "4 2020-01-30          Frenchport\n",
       "5 2020-11-26       New Hollyside\n",
       "6 2020-10-25        Port Rebecca\n",
       "7 2020-11-06  South Anthonymouth\n",
       "8 2020-11-17       New Granttown\n",
       "9 2020-02-11          Frenchport"
      ]
     },
     "execution_count": 22,
     "metadata": {},
     "output_type": "execute_result"
    }
   ],
   "source": [
    "checks"
   ]
  },
  {
   "cell_type": "code",
   "execution_count": 23,
   "metadata": {},
   "outputs": [],
   "source": [
    "last_checked = checks.sort_values('date').groupby(['produit']).last().reset_index()"
   ]
  },
  {
   "cell_type": "code",
   "execution_count": 24,
   "metadata": {},
   "outputs": [
    {
     "data": {
      "text/html": [
       "<div>\n",
       "<style scoped>\n",
       "    .dataframe tbody tr th:only-of-type {\n",
       "        vertical-align: middle;\n",
       "    }\n",
       "\n",
       "    .dataframe tbody tr th {\n",
       "        vertical-align: top;\n",
       "    }\n",
       "\n",
       "    .dataframe thead th {\n",
       "        text-align: right;\n",
       "    }\n",
       "</style>\n",
       "<table border=\"1\" class=\"dataframe\">\n",
       "  <thead>\n",
       "    <tr style=\"text-align: right;\">\n",
       "      <th></th>\n",
       "      <th>produit</th>\n",
       "      <th>date</th>\n",
       "    </tr>\n",
       "  </thead>\n",
       "  <tbody>\n",
       "    <tr>\n",
       "      <th>0</th>\n",
       "      <td>Frenchport</td>\n",
       "      <td>2020-02-11</td>\n",
       "    </tr>\n",
       "    <tr>\n",
       "      <th>1</th>\n",
       "      <td>New Granttown</td>\n",
       "      <td>2020-11-17</td>\n",
       "    </tr>\n",
       "    <tr>\n",
       "      <th>2</th>\n",
       "      <td>New Hollyside</td>\n",
       "      <td>2020-11-26</td>\n",
       "    </tr>\n",
       "    <tr>\n",
       "      <th>3</th>\n",
       "      <td>Port Rebecca</td>\n",
       "      <td>2020-10-25</td>\n",
       "    </tr>\n",
       "    <tr>\n",
       "      <th>4</th>\n",
       "      <td>South Anthonymouth</td>\n",
       "      <td>2020-11-06</td>\n",
       "    </tr>\n",
       "  </tbody>\n",
       "</table>\n",
       "</div>"
      ],
      "text/plain": [
       "              produit       date\n",
       "0          Frenchport 2020-02-11\n",
       "1       New Granttown 2020-11-17\n",
       "2       New Hollyside 2020-11-26\n",
       "3        Port Rebecca 2020-10-25\n",
       "4  South Anthonymouth 2020-11-06"
      ]
     },
     "execution_count": 24,
     "metadata": {},
     "output_type": "execute_result"
    }
   ],
   "source": [
    "last_checked"
   ]
  },
  {
   "cell_type": "code",
   "execution_count": 25,
   "metadata": {},
   "outputs": [],
   "source": [
    "merged = df.merge(last_checked, on='produit', suffixes=('_initial','_checked'))"
   ]
  },
  {
   "cell_type": "code",
   "execution_count": 26,
   "metadata": {},
   "outputs": [
    {
     "data": {
      "text/html": [
       "<div>\n",
       "<style scoped>\n",
       "    .dataframe tbody tr th:only-of-type {\n",
       "        vertical-align: middle;\n",
       "    }\n",
       "\n",
       "    .dataframe tbody tr th {\n",
       "        vertical-align: top;\n",
       "    }\n",
       "\n",
       "    .dataframe thead th {\n",
       "        text-align: right;\n",
       "    }\n",
       "</style>\n",
       "<table border=\"1\" class=\"dataframe\">\n",
       "  <thead>\n",
       "    <tr style=\"text-align: right;\">\n",
       "      <th></th>\n",
       "      <th>produit</th>\n",
       "      <th>date_initial</th>\n",
       "      <th>horaire</th>\n",
       "      <th>date_checked</th>\n",
       "    </tr>\n",
       "  </thead>\n",
       "  <tbody>\n",
       "    <tr>\n",
       "      <th>0</th>\n",
       "      <td>New Hollyside</td>\n",
       "      <td>2020-11-12</td>\n",
       "      <td>16</td>\n",
       "      <td>2020-11-26</td>\n",
       "    </tr>\n",
       "    <tr>\n",
       "      <th>1</th>\n",
       "      <td>Port Rebecca</td>\n",
       "      <td>2020-10-09</td>\n",
       "      <td>3</td>\n",
       "      <td>2020-10-25</td>\n",
       "    </tr>\n",
       "    <tr>\n",
       "      <th>2</th>\n",
       "      <td>South Anthonymouth</td>\n",
       "      <td>2020-10-29</td>\n",
       "      <td>2</td>\n",
       "      <td>2020-11-06</td>\n",
       "    </tr>\n",
       "    <tr>\n",
       "      <th>3</th>\n",
       "      <td>New Granttown</td>\n",
       "      <td>2020-10-29</td>\n",
       "      <td>4</td>\n",
       "      <td>2020-11-17</td>\n",
       "    </tr>\n",
       "    <tr>\n",
       "      <th>4</th>\n",
       "      <td>Frenchport</td>\n",
       "      <td>2020-01-30</td>\n",
       "      <td>1</td>\n",
       "      <td>2020-02-11</td>\n",
       "    </tr>\n",
       "  </tbody>\n",
       "</table>\n",
       "</div>"
      ],
      "text/plain": [
       "              produit date_initial  horaire date_checked\n",
       "0       New Hollyside   2020-11-12       16   2020-11-26\n",
       "1        Port Rebecca   2020-10-09        3   2020-10-25\n",
       "2  South Anthonymouth   2020-10-29        2   2020-11-06\n",
       "3       New Granttown   2020-10-29        4   2020-11-17\n",
       "4          Frenchport   2020-01-30        1   2020-02-11"
      ]
     },
     "execution_count": 26,
     "metadata": {},
     "output_type": "execute_result"
    }
   ],
   "source": [
    "merged"
   ]
  },
  {
   "cell_type": "code",
   "execution_count": 27,
   "metadata": {},
   "outputs": [],
   "source": [
    "today = pd.Timestamp.today()"
   ]
  },
  {
   "cell_type": "code",
   "execution_count": 28,
   "metadata": {},
   "outputs": [],
   "source": [
    "merged['week_difference'] = (today - merged['date_checked']).dt.days/7 "
   ]
  },
  {
   "cell_type": "code",
   "execution_count": 29,
   "metadata": {},
   "outputs": [
    {
     "data": {
      "text/html": [
       "<div>\n",
       "<style scoped>\n",
       "    .dataframe tbody tr th:only-of-type {\n",
       "        vertical-align: middle;\n",
       "    }\n",
       "\n",
       "    .dataframe tbody tr th {\n",
       "        vertical-align: top;\n",
       "    }\n",
       "\n",
       "    .dataframe thead th {\n",
       "        text-align: right;\n",
       "    }\n",
       "</style>\n",
       "<table border=\"1\" class=\"dataframe\">\n",
       "  <thead>\n",
       "    <tr style=\"text-align: right;\">\n",
       "      <th></th>\n",
       "      <th>produit</th>\n",
       "      <th>date_initial</th>\n",
       "      <th>horaire</th>\n",
       "      <th>date_checked</th>\n",
       "      <th>week_difference</th>\n",
       "    </tr>\n",
       "  </thead>\n",
       "  <tbody>\n",
       "    <tr>\n",
       "      <th>0</th>\n",
       "      <td>New Hollyside</td>\n",
       "      <td>2020-11-12</td>\n",
       "      <td>16</td>\n",
       "      <td>2020-11-26</td>\n",
       "      <td>2.857143</td>\n",
       "    </tr>\n",
       "    <tr>\n",
       "      <th>1</th>\n",
       "      <td>Port Rebecca</td>\n",
       "      <td>2020-10-09</td>\n",
       "      <td>3</td>\n",
       "      <td>2020-10-25</td>\n",
       "      <td>7.428571</td>\n",
       "    </tr>\n",
       "    <tr>\n",
       "      <th>2</th>\n",
       "      <td>South Anthonymouth</td>\n",
       "      <td>2020-10-29</td>\n",
       "      <td>2</td>\n",
       "      <td>2020-11-06</td>\n",
       "      <td>5.714286</td>\n",
       "    </tr>\n",
       "    <tr>\n",
       "      <th>3</th>\n",
       "      <td>New Granttown</td>\n",
       "      <td>2020-10-29</td>\n",
       "      <td>4</td>\n",
       "      <td>2020-11-17</td>\n",
       "      <td>4.142857</td>\n",
       "    </tr>\n",
       "    <tr>\n",
       "      <th>4</th>\n",
       "      <td>Frenchport</td>\n",
       "      <td>2020-01-30</td>\n",
       "      <td>1</td>\n",
       "      <td>2020-02-11</td>\n",
       "      <td>44.142857</td>\n",
       "    </tr>\n",
       "  </tbody>\n",
       "</table>\n",
       "</div>"
      ],
      "text/plain": [
       "              produit date_initial  horaire date_checked  week_difference\n",
       "0       New Hollyside   2020-11-12       16   2020-11-26         2.857143\n",
       "1        Port Rebecca   2020-10-09        3   2020-10-25         7.428571\n",
       "2  South Anthonymouth   2020-10-29        2   2020-11-06         5.714286\n",
       "3       New Granttown   2020-10-29        4   2020-11-17         4.142857\n",
       "4          Frenchport   2020-01-30        1   2020-02-11        44.142857"
      ]
     },
     "execution_count": 29,
     "metadata": {},
     "output_type": "execute_result"
    }
   ],
   "source": [
    "merged"
   ]
  },
  {
   "cell_type": "code",
   "execution_count": 30,
   "metadata": {},
   "outputs": [],
   "source": [
    "merged['need_to_check'] = merged['week_difference'] > merged['horaire']"
   ]
  },
  {
   "cell_type": "code",
   "execution_count": 31,
   "metadata": {},
   "outputs": [
    {
     "data": {
      "text/html": [
       "<div>\n",
       "<style scoped>\n",
       "    .dataframe tbody tr th:only-of-type {\n",
       "        vertical-align: middle;\n",
       "    }\n",
       "\n",
       "    .dataframe tbody tr th {\n",
       "        vertical-align: top;\n",
       "    }\n",
       "\n",
       "    .dataframe thead th {\n",
       "        text-align: right;\n",
       "    }\n",
       "</style>\n",
       "<table border=\"1\" class=\"dataframe\">\n",
       "  <thead>\n",
       "    <tr style=\"text-align: right;\">\n",
       "      <th></th>\n",
       "      <th>produit</th>\n",
       "      <th>date_initial</th>\n",
       "      <th>horaire</th>\n",
       "      <th>date_checked</th>\n",
       "      <th>week_difference</th>\n",
       "      <th>need_to_check</th>\n",
       "    </tr>\n",
       "  </thead>\n",
       "  <tbody>\n",
       "    <tr>\n",
       "      <th>0</th>\n",
       "      <td>New Hollyside</td>\n",
       "      <td>2020-11-12</td>\n",
       "      <td>16</td>\n",
       "      <td>2020-11-26</td>\n",
       "      <td>2.857143</td>\n",
       "      <td>False</td>\n",
       "    </tr>\n",
       "    <tr>\n",
       "      <th>1</th>\n",
       "      <td>Port Rebecca</td>\n",
       "      <td>2020-10-09</td>\n",
       "      <td>3</td>\n",
       "      <td>2020-10-25</td>\n",
       "      <td>7.428571</td>\n",
       "      <td>True</td>\n",
       "    </tr>\n",
       "    <tr>\n",
       "      <th>2</th>\n",
       "      <td>South Anthonymouth</td>\n",
       "      <td>2020-10-29</td>\n",
       "      <td>2</td>\n",
       "      <td>2020-11-06</td>\n",
       "      <td>5.714286</td>\n",
       "      <td>True</td>\n",
       "    </tr>\n",
       "    <tr>\n",
       "      <th>3</th>\n",
       "      <td>New Granttown</td>\n",
       "      <td>2020-10-29</td>\n",
       "      <td>4</td>\n",
       "      <td>2020-11-17</td>\n",
       "      <td>4.142857</td>\n",
       "      <td>True</td>\n",
       "    </tr>\n",
       "    <tr>\n",
       "      <th>4</th>\n",
       "      <td>Frenchport</td>\n",
       "      <td>2020-01-30</td>\n",
       "      <td>1</td>\n",
       "      <td>2020-02-11</td>\n",
       "      <td>44.142857</td>\n",
       "      <td>True</td>\n",
       "    </tr>\n",
       "  </tbody>\n",
       "</table>\n",
       "</div>"
      ],
      "text/plain": [
       "              produit date_initial  horaire date_checked  week_difference  \\\n",
       "0       New Hollyside   2020-11-12       16   2020-11-26         2.857143   \n",
       "1        Port Rebecca   2020-10-09        3   2020-10-25         7.428571   \n",
       "2  South Anthonymouth   2020-10-29        2   2020-11-06         5.714286   \n",
       "3       New Granttown   2020-10-29        4   2020-11-17         4.142857   \n",
       "4          Frenchport   2020-01-30        1   2020-02-11        44.142857   \n",
       "\n",
       "   need_to_check  \n",
       "0          False  \n",
       "1           True  \n",
       "2           True  \n",
       "3           True  \n",
       "4           True  "
      ]
     },
     "execution_count": 31,
     "metadata": {},
     "output_type": "execute_result"
    }
   ],
   "source": [
    "merged"
   ]
  },
  {
   "cell_type": "code",
   "execution_count": 32,
   "metadata": {},
   "outputs": [],
   "source": [
    "schedules = []\n",
    "for i, row in merged.iterrows():\n",
    "    schedule = pd.date_range(row['date_checked'], today+pd.Timedelta(52, 'W'), freq=f'{row[\"horaire\"]*7}D')\n",
    "    schedule = schedule[schedule >= today]\n",
    "    schedules.append(schedule)"
   ]
  },
  {
   "cell_type": "code",
   "execution_count": 33,
   "metadata": {},
   "outputs": [],
   "source": [
    "total = []\n",
    "for schedule in schedules:\n",
    "    for day in schedule:\n",
    "        total.append((day, 1))"
   ]
  },
  {
   "cell_type": "code",
   "execution_count": 34,
   "metadata": {},
   "outputs": [],
   "source": [
    "schedule_df = pd.DataFrame(total, columns=['date', 'check'])\n",
    "\n",
    "schedule_series = pd.Series(schedule_df['check'])\n",
    "schedule_series.index = schedule_df['date']"
   ]
  },
  {
   "cell_type": "code",
   "execution_count": 35,
   "metadata": {},
   "outputs": [],
   "source": [
    "import matplotlib.pyplot as plt\n",
    "plt.rcParams[\"figure.figsize\"] = (30,10)"
   ]
  },
  {
   "cell_type": "code",
   "execution_count": 36,
   "metadata": {},
   "outputs": [],
   "source": [
    "import datetime as dt\n",
    "import matplotlib.pyplot as plt\n",
    "import numpy as np\n",
    "\n",
    "def main():\n",
    "    dates, data = generate_data()\n",
    "    fig, ax = plt.subplots(figsize=(10, 10))\n",
    "    calendar_heatmap(ax, dates, data)\n",
    "    plt.show()\n",
    "\n",
    "def generate_data():\n",
    "    num = 100\n",
    "    data = np.random.randint(0, 20, num)\n",
    "    start = dt.datetime(2015, 3, 1)\n",
    "    dates = [start + dt.timedelta(days=i) for i in range(num)]\n",
    "    return dates, data\n",
    "\n",
    "def calendar_array(dates, data):\n",
    "    i, j = zip(*[d.isocalendar()[1:] for d in dates])\n",
    "    i = np.array(i) - min(i)\n",
    "    j = np.array(j) - 1\n",
    "    ni = max(i) + 1\n",
    "\n",
    "    calendar = np.nan * np.zeros((ni, 7))\n",
    "    calendar[i, j] = data\n",
    "    return i, j, calendar\n",
    "\n",
    "\n",
    "def calendar_heatmap(ax, dates, data):\n",
    "    i, j, calendar = calendar_array(dates, data)\n",
    "    im = ax.imshow(calendar, interpolation='none', cmap='summer')\n",
    "    label_days(ax, dates, i, j, calendar)\n",
    "    label_months(ax, dates, i, j, calendar)\n",
    "    ax.figure.colorbar(im, fraction=0.016, pad=0.04)\n",
    "    #plt.colorbar(im,fraction=0.046, pad=0.04)\n",
    "    \n",
    "def label_days(ax, dates, i, j, calendar):\n",
    "    ni, nj = calendar.shape\n",
    "    day_of_month = np.nan * np.zeros((ni, 7))\n",
    "    day_of_month[i, j] = [d.day for d in dates]\n",
    "\n",
    "    for (i, j), day in np.ndenumerate(day_of_month):\n",
    "        if np.isfinite(day):\n",
    "            ax.text(j, i, int(day), ha='center', va='center')\n",
    "\n",
    "    ax.set(xticks=np.arange(7), \n",
    "           xticklabels=['L', 'M', 'M', 'J', 'V', 'S', 'D'])\n",
    "    ax.xaxis.tick_top()\n",
    "\n",
    "def label_months(ax, dates, i, j, calendar):\n",
    "    month_labels = np.array(['Jan', 'Feb', 'Mar', 'Apr', 'May', 'Jun', 'Jul',\n",
    "                             'Aug', 'Sep', 'Oct', 'Nov', 'Dec'])\n",
    "    months = np.array([d.month for d in dates])\n",
    "    uniq_months = sorted(set(months))\n",
    "    yticks = [i[months == m].mean() for m in months]\n",
    "    dates_df = pd.DataFrame(dates)\n",
    "    dates_df.index = dates_df[0]\n",
    "    new_months = dates_df.resample('7D').sum().index.values\n",
    "    new_months = pd.Series(new_months).dt.month\n",
    "    labels = [month_labels[m - 1] for m in new_months]\n",
    "    locs, oldlabels = plt.yticks()\n",
    "    new_labels = []\n",
    "    for loc in locs:\n",
    "        if loc < 0:\n",
    "            loc = 0\n",
    "        if loc >= len(labels):\n",
    "            loc = len(labels)-1\n",
    "        new_labels.append(labels[int(loc)])\n",
    "    plt.yticks(locs, new_labels, rotation=90)    \n",
    "\n",
    "def my_calendar(dates, data):\n",
    "    fig, ax = plt.subplots(figsize=(30, 30))\n",
    "    plt.locator_params(nbins=30)\n",
    "    calendar_heatmap(ax, dates, data)\n",
    "    plt.show()"
   ]
  },
  {
   "cell_type": "code",
   "execution_count": 182,
   "metadata": {},
   "outputs": [],
   "source": [
    "resampled = schedule_series.resample('D').sum()"
   ]
  },
  {
   "cell_type": "code",
   "execution_count": 164,
   "metadata": {},
   "outputs": [],
   "source": [
    "import datetime"
   ]
  },
  {
   "cell_type": "code",
   "execution_count": 178,
   "metadata": {},
   "outputs": [],
   "source": [
    "dates = resampled.index.to_list()"
   ]
  },
  {
   "cell_type": "code",
   "execution_count": 179,
   "metadata": {},
   "outputs": [],
   "source": [
    "data = resampled.values"
   ]
  },
  {
   "cell_type": "code",
   "execution_count": null,
   "metadata": {},
   "outputs": [],
   "source": []
  },
  {
   "cell_type": "code",
   "execution_count": 198,
   "metadata": {},
   "outputs": [
    {
     "data": {
      "image/png": "[encoded data removed]",
      "text/plain": [
       "<Figure size 2160x2160 with 2 Axes>"
      ]
     },
     "metadata": {
      "needs_background": "light"
     },
     "output_type": "display_data"
    }
   ],
   "source": [
    "my_calendar(dates, data)"
   ]
  },
  {
   "cell_type": "code",
   "execution_count": null,
   "metadata": {},
   "outputs": [],
   "source": []
  },
  {
   "cell_type": "code",
   "execution_count": null,
   "metadata": {},
   "outputs": [],
   "source": []
  },
  {
   "cell_type": "code",
   "execution_count": null,
   "metadata": {},
   "outputs": [],
   "source": []
  },
  {
   "cell_type": "code",
   "execution_count": null,
   "metadata": {},
   "outputs": [],
   "source": []
  },
  {
   "cell_type": "code",
   "execution_count": null,
   "metadata": {},
   "outputs": [],
   "source": []
  },
  {
   "cell_type": "code",
   "execution_count": null,
   "metadata": {},
   "outputs": [],
   "source": []
  }
 ],
 "metadata": {
  "kernelspec": {
   "display_name": "Python 3",
   "language": "python",
   "name": "python3"
  },
  "language_info": {
   "codemirror_mode": {
    "name": "ipython",
    "version": 3
   },
   "file_extension": ".py",
   "mimetype": "text/x-python",
   "name": "python",
   "nbconvert_exporter": "python",
   "pygments_lexer": "ipython3",
   "version": "3.7.4"
  }
 },
 "nbformat": 4,
 "nbformat_minor": 4
}
